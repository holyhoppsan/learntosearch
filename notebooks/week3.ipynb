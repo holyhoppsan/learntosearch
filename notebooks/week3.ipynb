{
 "cells": [
  {
   "cell_type": "markdown",
   "metadata": {},
   "source": [
    "# Step 0 - Load dependencies"
   ]
  },
  {
   "cell_type": "code",
   "execution_count": 6,
   "metadata": {},
   "outputs": [],
   "source": [
    "import sentencepiece as sp\n",
    "from datasets import list_datasets\n",
    "from datasets import load_dataset\n",
    "import pandas as pd"
   ]
  },
  {
   "cell_type": "markdown",
   "metadata": {},
   "source": [
    "# Step 1 - Load the datasets"
   ]
  },
  {
   "cell_type": "code",
   "execution_count": 8,
   "metadata": {},
   "outputs": [],
   "source": [
    "datasets_list = list_datasets()\n",
    "ms_df_dict = load_dataset(\"ms_marco\", \"v1.1\")\n",
    "ms_train_df = ms_df_dict['train']\n",
    "ms_validation_df = ms_df_dict['validation']\n",
    "ms_test_df = ms_df_dict['test']\n",
    "\n",
    "# Convert to Pandas\n",
    "ms_train_df = pd.DataFrame(ms_train_df)"
   ]
  }
 ],
 "metadata": {
  "kernelspec": {
   "display_name": "learntosearch",
   "language": "python",
   "name": "python3"
  },
  "language_info": {
   "codemirror_mode": {
    "name": "ipython",
    "version": 3
   },
   "file_extension": ".py",
   "mimetype": "text/x-python",
   "name": "python",
   "nbconvert_exporter": "python",
   "pygments_lexer": "ipython3",
   "version": "3.11.8"
  }
 },
 "nbformat": 4,
 "nbformat_minor": 2
}
