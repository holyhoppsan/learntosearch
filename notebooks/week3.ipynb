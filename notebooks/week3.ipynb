{
 "cells": [
  {
   "cell_type": "markdown",
   "metadata": {},
   "source": [
    "# Step 0 - Load dependencies"
   ]
  },
  {
   "cell_type": "code",
   "execution_count": 12,
   "metadata": {},
   "outputs": [
    {
     "name": "stderr",
     "output_type": "stream",
     "text": [
      "/root/miniconda3/envs/learntosearch/lib/python3.11/site-packages/tqdm/auto.py:21: TqdmWarning: IProgress not found. Please update jupyter and ipywidgets. See https://ipywidgets.readthedocs.io/en/stable/user_install.html\n",
      "  from .autonotebook import tqdm as notebook_tqdm\n"
     ]
    }
   ],
   "source": [
    "import os\n",
    "import sentencepiece as sp\n",
    "from datasets import list_datasets\n",
    "from datasets import load_dataset\n",
    "import pandas as pd"
   ]
  },
  {
   "cell_type": "markdown",
   "metadata": {},
   "source": [
    "# Step 1 - Load the datasets"
   ]
  },
  {
   "cell_type": "code",
   "execution_count": 11,
   "metadata": {},
   "outputs": [
    {
     "name": "stdout",
     "output_type": "stream",
     "text": [
      "                                             answers  ... wellFormedAnswers\n",
      "0  [Results-Based Accountability is a disciplined...  ...                []\n",
      "1                                              [Yes]  ...                []\n",
      "2                                    [20-25 minutes]  ...                []\n",
      "3                       [$11 to $22 per square foot]  ...                []\n",
      "4                      [Due to symptoms in the body]  ...                []\n",
      "\n",
      "[5 rows x 6 columns]\n"
     ]
    }
   ],
   "source": [
    "datasets_list = list_datasets()\n",
    "ms_df_dict = load_dataset(\"ms_marco\", \"v1.1\")\n",
    "ms_train_df = ms_df_dict['train']\n",
    "ms_validation_df = ms_df_dict['validation']\n",
    "ms_test_df = ms_df_dict['test']\n",
    "\n",
    "# Convert to Pandas\n",
    "ms_train_df = pd.DataFrame(ms_train_df)\n",
    "ms_validation_df = pd.DataFrame(ms_validation_df)\n",
    "ms_test_df = pd.DataFrame(ms_test_df)\n",
    "\n",
    "print(ms_train_df.head())"
   ]
  },
  {
   "cell_type": "markdown",
   "metadata": {},
   "source": [
    "Setup a smaller dataset for debugging purposes"
   ]
  },
  {
   "cell_type": "code",
   "execution_count": 13,
   "metadata": {},
   "outputs": [],
   "source": [
    "ms_train_df_short = ms_train_df.iloc[0:1000]\n",
    "ms_validation_df_short = ms_validation_df.iloc[0:600]\n",
    "ms_test_df_short = ms_test_df[0:200]"
   ]
  },
  {
   "cell_type": "markdown",
   "metadata": {},
   "source": [
    "# Step X - Setup sentence piece"
   ]
  },
  {
   "cell_type": "code",
   "execution_count": 13,
   "metadata": {},
   "outputs": [],
   "source": [
    "corpus = \"Testing\"\n",
    "\n",
    "corpus_filename = \"./datasets/ms_marco_corpus.txt\"\n",
    "with open(corpus_filename, \"w\") as corpus_file:\n",
    "    for sentence in corpus:\n",
    "        corpus_file.write(sentence + os.linesep)"
   ]
  }
 ],
 "metadata": {
  "kernelspec": {
   "display_name": "learntosearch",
   "language": "python",
   "name": "python3"
  },
  "language_info": {
   "codemirror_mode": {
    "name": "ipython",
    "version": 3
   },
   "file_extension": ".py",
   "mimetype": "text/x-python",
   "name": "python",
   "nbconvert_exporter": "python",
   "pygments_lexer": "ipython3",
   "version": "3.11.8"
  }
 },
 "nbformat": 4,
 "nbformat_minor": 2
}
