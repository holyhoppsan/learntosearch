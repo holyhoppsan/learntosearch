{
 "cells": [
  {
   "cell_type": "markdown",
   "metadata": {},
   "source": [
    "# Step 0a - Configuration"
   ]
  },
  {
   "cell_type": "code",
   "execution_count": 61,
   "metadata": {},
   "outputs": [],
   "source": [
    "should_use_small_data = True"
   ]
  },
  {
   "cell_type": "markdown",
   "metadata": {},
   "source": [
    "# Step 0 - Load dependencies"
   ]
  },
  {
   "cell_type": "code",
   "execution_count": 62,
   "metadata": {},
   "outputs": [],
   "source": [
    "import os\n",
    "import sentencepiece as spm\n",
    "from datasets import list_datasets\n",
    "from datasets import load_dataset\n",
    "import pandas as pd"
   ]
  },
  {
   "cell_type": "markdown",
   "metadata": {},
   "source": [
    "# Step 1 - Load the datasets"
   ]
  },
  {
   "cell_type": "code",
   "execution_count": 63,
   "metadata": {},
   "outputs": [],
   "source": [
    "datasets_list = list_datasets()\n",
    "ms_df_dict = load_dataset(\"ms_marco\", \"v1.1\")\n",
    "ms_train_df = ms_df_dict['train']\n",
    "ms_validation_df = ms_df_dict['validation']\n",
    "ms_test_df = ms_df_dict['test']\n",
    "\n",
    "# Convert to Pandas\n",
    "ms_train_df = pd.DataFrame(ms_train_df)\n",
    "ms_validation_df = pd.DataFrame(ms_validation_df)\n",
    "ms_test_df = pd.DataFrame(ms_test_df)\n",
    "\n",
    "print(ms_train_df.head())\n",
    "\n",
    "if should_use_small_data: \n",
    "    # Setup a smaller dataset for debugging purposes\n",
    "    print(\"Running with smaller datasets enabled\")\n",
    "    ms_train_df = ms_train_df.iloc[0:1000]\n",
    "    ms_validation_df = ms_validation_df.iloc[0:600]\n",
    "    ms_test_df = ms_test_df[0:200]"
   ]
  },
  {
   "cell_type": "markdown",
   "metadata": {},
   "source": [
    "# Step X - Sentence piece preparation\n",
    "\n",
    "First we create the corpus from the combination from the combination of the the queries and the documents (both positive and negative)"
   ]
  },
  {
   "cell_type": "code",
   "execution_count": null,
   "metadata": {},
   "outputs": [],
   "source": [
    "query_string = \"query\"\n",
    "passage_string = \"passages\"\n",
    "passage_text_string = \"passage_text\"\n",
    "\n",
    "# Gather all of queries into one list\n",
    "all_queries = list(ms_train_df[query_string]) + list(ms_validation_df[query_string]) + list(ms_test_df[query_string])\n",
    "\n",
    "assert (len(all_queries) == len(ms_train_df) + len(ms_validation_df) + len(ms_test_df))\n",
    "\n",
    "# Helper function for reading out the data from a given container.\n",
    "def read_passage_texts_from_data(data_frame):\n",
    "    passages = data_frame[passage_string]\n",
    "    texts = [passage[passage_text_string] for passage in passages]\n",
    "    return texts\n",
    "\n",
    "train_texts = read_passage_texts_from_data(ms_train_df)\n",
    "test_texts = read_passage_texts_from_data(ms_test_df)\n",
    "validation_texts = read_passage_texts_from_data(ms_validation_df)\n",
    "\n",
    "# Now lets read out all of documents for the corpus\n",
    "def read_all_documents(data_frame):\n",
    "    return [entry for passage in data_frame[passage_string] for entry in passage[passage_text_string]]\n",
    "\n",
    "all_documents = read_all_documents(ms_train_df) + read_all_documents(ms_test_df) + read_all_documents(ms_validation_df)\n",
    "\n",
    "corpus = all_queries + all_documents"
   ]
  },
  {
   "cell_type": "markdown",
   "metadata": {},
   "source": [
    "Write the corpus to a file for preview"
   ]
  },
  {
   "cell_type": "code",
   "execution_count": 60,
   "metadata": {},
   "outputs": [],
   "source": [
    "corpus_filename = \"./datasets/ms_marco_corpus.txt\"\n",
    "with open(corpus_filename, \"w\") as corpus_file:\n",
    "    for sentence in corpus:\n",
    "        corpus_file.write(sentence + os.linesep)"
   ]
  },
  {
   "cell_type": "markdown",
   "metadata": {},
   "source": [
    "Train and generate the sentence piece model using the corpus text"
   ]
  },
  {
   "cell_type": "code",
   "execution_count": null,
   "metadata": {},
   "outputs": [],
   "source": [
    "spm.Sentece"
   ]
  }
 ],
 "metadata": {
  "kernelspec": {
   "display_name": "learntosearch",
   "language": "python",
   "name": "python3"
  },
  "language_info": {
   "codemirror_mode": {
    "name": "ipython",
    "version": 3
   },
   "file_extension": ".py",
   "mimetype": "text/x-python",
   "name": "python",
   "nbconvert_exporter": "python",
   "pygments_lexer": "ipython3",
   "version": "3.11.8"
  }
 },
 "nbformat": 4,
 "nbformat_minor": 2
}
